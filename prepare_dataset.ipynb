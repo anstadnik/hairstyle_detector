{
 "cells": [
  {
   "cell_type": "code",
   "execution_count": 1,
   "metadata": {
    "id": "GbmW4Q9vTsi5"
   },
   "outputs": [],
   "source": [
    "import functools\n",
    "import json\n",
    "import os\n",
    "import pathlib\n",
    "import shutil\n",
    "import zipfile\n",
    "\n",
    "import cv2\n",
    "import numpy as np\n",
    "import pandas as pd\n",
    "import requests\n",
    "import torch\n",
    "from matplotlib import pyplot as plt\n",
    "from torch.utils.data import Dataset\n",
    "from torchvision.io import read_image\n",
    "from tqdm import tqdm"
   ]
  },
  {
   "cell_type": "markdown",
   "metadata": {
    "id": "yOBEmOm3GkZs"
   },
   "source": [
    "# Download dataset. \n",
    "Let's download only validation set. Train set we will download in future (volume ~16 gb for img size 512x512 dataset)\n"
   ]
  },
  {
   "cell_type": "markdown",
   "metadata": {
    "id": "7OT8H_v6HVah"
   },
   "source": [
    "Dataset from: https://psh01087.github.io/K-Hairstyle/"
   ]
  },
  {
   "cell_type": "code",
   "execution_count": 2,
   "metadata": {},
   "outputs": [],
   "source": [
    "data_path = \"/content/drive/MyDrive/UCU/CV/HW5_Project/data/\"\n",
    "data_path = \"data\""
   ]
  },
  {
   "cell_type": "code",
   "execution_count": 3,
   "metadata": {
    "id": "2bt15GvhADSx"
   },
   "outputs": [],
   "source": [
    "validation_img_url = '''https://davian-lab.direct.quickconnect.to:52397/d/s/p9B00klYuWYhBeWDVeUFF4wRbrKeOjM5/webapi/entry.cgi/images_mqset001.zip?api=SYNO.SynologyDrive.Files&method=download&version=2&files=[\"id:692437225375314604\"]&force_download=true&json_error=true&_dc=1674636653907&sharing_token=\"275B6KI1PMj0ptawRUIIafNTRF0EHxei_WIdTL9ENTRnp_D.yk7HZ79st4khun5ANd6s4Ias6yv4zq3U2hbXLKT.30QPxVUMzPK1.WoXeKBnyAACPh8hpmlPMIGm4Wyr7LtPEA7UWeCJPuch4FgOuizdQzRHcNmVVkbyHL78GuYqttpHtee5l3S46KkK0I.iCI.hNdQiCvgmYherMWCouj9PHZqwI2iFO7EQOAGcUUWvv69dM4lVFOUV\"'''\n",
    "validation_labels_url = \"\"\"https://davian-lab.direct.quickconnect.to:52397/d/s/p9B00klYuWYhBeWDVeUFF4wRbrKeOjM5/webapi/entry.cgi/labels_mqset.zip?api=SYNO.SynologyDrive.Files&method=download&version=2&files=%5B%22id%3A692437182238994960%22%5D&force_download=true&json_error=true&c2_offload=%22allow%22&_dc=1674636036509&sharing_token=%22VZJj4xdXse2htbjn2HPvIHm7tR4fDDZcgGCwVJNKPBxXm_msZ_3vU8tm2SLgpN2xzcI9xeKHxGe34YLrnpGuLGQxtSW0eneDFUbPdKKGPP8ZZG8jojN49luwsM5wudCwfnMLrpHt4K4w_fEyLolAEY142lNznUIpSu2Tf1psAYH04SYZZidqYF.lCS_tYBp7Vz7Pv2D19YxGKWzn9bds97uYwDZhVNA0jJAu0gOGbOedQswj_oLUsgpv%22\"\"\""
   ]
  },
  {
   "cell_type": "code",
   "execution_count": 4,
   "metadata": {
    "id": "L8EzcschM_Mw"
   },
   "outputs": [],
   "source": [
    "train_img_url = '''https://davian-lab.direct.quickconnect.to:52397/d/s/p9A5kbK4danKU4WeoqSMiudPFX7Qmiau/webapi/entry.cgi/images_mqset001.zip?api=SYNO.SynologyDrive.Files&method=download&version=2&files=[\"id:692403417502495374\"]&force_download=true&json_error=true&_dc=1674721997657&sharing_token=\"L2fxwUoIXFa0yCRGztlgAj_tkjNSJMpgy3whuktH5DA1_djP.lsXP2ELH3x1vpCjdq6Y_oYnOyDWXaz_PSraWHBx6tiVVFc6_pSl34GRzWzoY3Dx26po.yD.nIXUgrzY6mr.Hgat7iMGhAIANzlQNqcE4qFaQwXNl2Vk4kybYoQ11sUsHHtagHU5jZwxCHvRLx2zc8CKbp0qUWI9TZwngLFDegsykQicYbhFbGMWvliamFL8GBwZRqOg\"'''\n",
    "train_labels_url = '''https://davian-lab.direct.quickconnect.to:52397/d/s/p9A5kbK4danKU4WeoqSMiudPFX7Qmiau/webapi/entry.cgi/labels_mqset.zip?api=SYNO.SynologyDrive.Files&method=download&version=2&files=[\"id:692392609951297862\"]&force_download=true&json_error=true&_dc=1674722029811&sharing_token=\"L2fxwUoIXFa0yCRGztlgAj_tkjNSJMpgy3whuktH5DA1_djP.lsXP2ELH3x1vpCjdq6Y_oYnOyDWXaz_PSraWHBx6tiVVFc6_pSl34GRzWzoY3Dx26po.yD.nIXUgrzY6mr.Hgat7iMGhAIANzlQNqcE4qFaQwXNl2Vk4kybYoQ11sUsHHtagHU5jZwxCHvRLx2zc8CKbp0qUWI9TZwngLFDegsykQicYbhFbGMWvliamFL8GBwZRqOg\"'''"
   ]
  },
  {
   "cell_type": "code",
   "execution_count": 5,
   "metadata": {},
   "outputs": [],
   "source": [
    "# https://stackoverflow.com/a/63831344\n",
    "def download(url, filename):\n",
    "    filename = os.path.join(data_path, filename)\n",
    "    path = pathlib.Path(filename).expanduser().resolve()\n",
    "    if path.is_file():\n",
    "        return\n",
    "\n",
    "    path.parent.mkdir(parents=True, exist_ok=True)\n",
    "    r = requests.get(url, stream=True, allow_redirects=True)\n",
    "\n",
    "    if r.status_code != 200:\n",
    "        r.raise_for_status()  # Will only raise for 4xx codes, so...\n",
    "        raise RuntimeError(f\"Request to {url} returned status code {r.status_code}\")\n",
    "\n",
    "    file_size = int(r.headers.get(\"Content-Length\", 0))\n",
    "\n",
    "    desc = \"(Unknown total file size)\" if file_size == 0 else \"\"\n",
    "\n",
    "    r.raw.read = functools.partial(r.raw.read, decode_content=True)\n",
    "    with tqdm.wrapattr(r.raw, \"read\", total=file_size, desc=desc) as r_raw:\n",
    "        with path.open(\"wb\") as f:\n",
    "            shutil.copyfileobj(r_raw, f)"
   ]
  },
  {
   "cell_type": "code",
   "execution_count": 6,
   "metadata": {
    "id": "UoXg5WJIIdYT"
   },
   "outputs": [
    {
     "name": "stdout",
     "output_type": "stream",
     "text": [
      "loading validation_labels.zip\n",
      "loading validation_img.zip\n",
      "loading train_labels.zip\n",
      "loading train_img.zip\n"
     ]
    }
   ],
   "source": [
    "l = [\n",
    "    (validation_labels_url, \"validation_labels.zip\"),\n",
    "    (validation_img_url, \"validation_img.zip\"),\n",
    "    (train_labels_url, \"train_labels.zip\"),\n",
    "    (train_img_url, \"train_img.zip\"),\n",
    "]\n",
    "\n",
    "for url, filename in l:\n",
    "    print(f\"loading {filename}\")\n",
    "    download(url, filename)"
   ]
  },
  {
   "cell_type": "code",
   "execution_count": 7,
   "metadata": {
    "id": "08kn9t63JEit"
   },
   "outputs": [],
   "source": [
    "for z in os.listdir(data_path):\n",
    "    if not z.endswith(\".zip\"):\n",
    "        continue\n",
    "    unzip_path = os.path.join(data_path, z.split(r\".\")[0])\n",
    "    if os.path.exists(unzip_path):\n",
    "        continue\n",
    "\n",
    "    print(f\"Unzipping {z}\")\n",
    "    zip_ref = zipfile.ZipFile(f\"{data_path}/{z}\", \"r\")\n",
    "    zip_ref.extractall(unzip_path)\n",
    "    zip_ref.close()"
   ]
  },
  {
   "cell_type": "markdown",
   "metadata": {
    "id": "0EF9v3eSMNBg"
   },
   "source": [
    "### Pytorch Dataset"
   ]
  },
  {
   "cell_type": "markdown",
   "metadata": {
    "id": "dWoPySs6_mbf"
   },
   "source": [
    "#### Translation test"
   ]
  },
  {
   "cell_type": "code",
   "execution_count": 8,
   "metadata": {
    "id": "qJnDbTd4VUkQ"
   },
   "outputs": [],
   "source": [
    "!pip install -q googletrans==3.1.0a0"
   ]
  },
  {
   "cell_type": "code",
   "execution_count": 9,
   "metadata": {
    "colab": {
     "base_uri": "https://localhost:8080/",
     "height": 35
    },
    "id": "S4kOTjNTVMi9",
    "outputId": "c78149e9-540a-4dbd-b39e-49a99f6b0263"
   },
   "outputs": [
    {
     "data": {
      "text/plain": [
       "'integrated into faceline'"
      ]
     },
     "execution_count": 9,
     "metadata": {},
     "output_type": "execute_result"
    }
   ],
   "source": [
    "from googletrans import Translator\n",
    "\n",
    "translator = Translator()\n",
    "translator.translate(\"페이스라인에 통합\").text"
   ]
  },
  {
   "cell_type": "markdown",
   "metadata": {
    "id": "E9pH96ZY_QI1"
   },
   "source": [
    "#### Create annotation file"
   ]
  },
  {
   "cell_type": "code",
   "execution_count": 10,
   "metadata": {
    "id": "iYfMYXccUmel"
   },
   "outputs": [
    {
     "data": {
      "text/plain": [
       "{'id': 'a628cde7-b65c-476d-a339-58948689d3b4',\n",
       " 'basestyle': '히피',\n",
       " 'basestyle-type': '장',\n",
       " 'length': '장발',\n",
       " 'curl': 'S3',\n",
       " 'bang': '페이스라인에 통합',\n",
       " 'loss': '탈모아님',\n",
       " 'side': '해당없음',\n",
       " 'age': 28,\n",
       " 'front': False,\n",
       " 'horizontal': 204,\n",
       " 'vertical': '중',\n",
       " 'color': '기타',\n",
       " 'partition': '4:6',\n",
       " 'sex': '여',\n",
       " 'exceptional': '해당없음',\n",
       " 'rgb': '[139.57330580953064, 147.5039557448043, 145.17804404351207]',\n",
       " 'path': 'partition15/images/DSS466959-092.jpg',\n",
       " 'source': 'DSS466959',\n",
       " 'collect-type': '두쏠',\n",
       " 'author': '오연중',\n",
       " 'collect-date': '2020:12:11 18:34:35',\n",
       " 'polygon1': '[[{\"x\": 208.89114379882812, \"y\": 18.98748207092285}, {\"x\": 220.38014221191406, \"y\": 14.02631664276123}, {\"x\": 228.9969024658203, \"y\": 10.6318359375}, {\"x\": 236.04698181152344, \"y\": 8.542924880981445}, {\"x\": 247.01376342773438, \"y\": 8.542924880981445}, {\"x\": 253.80271911621094, \"y\": 8.804038047790527}, {\"x\": 263.2028503417969, \"y\": 9.065152168273926}, {\"x\": 273.1251525878906, \"y\": 10.370721817016602}, {\"x\": 280.9585876464844, \"y\": 11.415177345275879}, {\"x\": 286.9642028808594, \"y\": 14.287430763244629}, {\"x\": 294.0142517089844, \"y\": 19.509708404541016}, {\"x\": 299.4976501464844, \"y\": 23.165306091308594}, {\"x\": 307.0699462890625, \"y\": 27.865352630615234}, {\"x\": 311.5089111328125, \"y\": 31.78206443786621}, {\"x\": 315.16448974609375, \"y\": 39.09325408935547}, {\"x\": 317.25341796875, \"y\": 44.054420471191406}, {\"x\": 320.38677978515625, \"y\": 52.93229293823242}, {\"x\": 322.4757080078125, \"y\": 60.50459289550781}, {\"x\": 323.5201416015625, \"y\": 64.42130279541016}, {\"x\": 329.5257568359375, \"y\": 89.74935150146484}, {\"x\": 334.748046875, \"y\": 113.2496109008789}, {\"x\": 336.8369445800781, \"y\": 123.43304443359375}, {\"x\": 339.4480895996094, \"y\": 135.7053985595703}, {\"x\": 340.4925537109375, \"y\": 141.97213745117188}, {\"x\": 341.5369873046875, \"y\": 150.06666564941406}, {\"x\": 342.5814514160156, \"y\": 166.516845703125}, {\"x\": 342.5814514160156, \"y\": 177.7447509765625}, {\"x\": 343.10369873046875, \"y\": 187.66708374023438}, {\"x\": 349.2735290527344, \"y\": 205.2538299560547}, {\"x\": 351.1299743652344, \"y\": 220.63565063476562}, {\"x\": 352.1907653808594, \"y\": 233.10023498535156}, {\"x\": 352.1907653808594, \"y\": 242.64756774902344}, {\"x\": 352.4559631347656, \"y\": 252.19491577148438}, {\"x\": 352.4559631347656, \"y\": 263.8638916015625}, {\"x\": 330.7092590332031, \"y\": 257.7641906738281}, {\"x\": 319.8359069824219, \"y\": 253.78614807128906}, {\"x\": 310.55377197265625, \"y\": 249.01246643066406}, {\"x\": 300.2108154296875, \"y\": 241.85195922851562}, {\"x\": 300.5479431152344, \"y\": 300.2901306152344}, {\"x\": 305.07879638671875, \"y\": 336.9146728515625}, {\"x\": 305.45635986328125, \"y\": 348.61944580078125}, {\"x\": 305.45635986328125, \"y\": 367.87567138671875}, {\"x\": 296.7721862792969, \"y\": 330.4959411621094}, {\"x\": 291.95574951171875, \"y\": 382.5343017578125}, {\"x\": 283.8458557128906, \"y\": 433.89691162109375}, {\"x\": 278.43927001953125, \"y\": 448.5719299316406}, {\"x\": 271.10174560546875, \"y\": 467.88116455078125}, {\"x\": 265.3089904785156, \"y\": 486.0318603515625}, {\"x\": 262.2195129394531, \"y\": 502.6378173828125}, {\"x\": 260.4190979003906, \"y\": 512.0}, {\"x\": 247.1856231689453, \"y\": 512.0}, {\"x\": 245.999755859375, \"y\": 499.5483093261719}, {\"x\": 242.91026306152344, \"y\": 474.4463195800781}, {\"x\": 236.34510803222656, \"y\": 502.6378173828125}, {\"x\": 234.80189514160156, \"y\": 512.0}, {\"x\": 229.42491149902344, \"y\": 512.0}, {\"x\": 226.69049072265625, \"y\": 474.0601501464844}, {\"x\": 218.19444274902344, \"y\": 505.727294921875}, {\"x\": 216.5955047607422, \"y\": 512.0}, {\"x\": 213.1740264892578, \"y\": 512.0}, {\"x\": 213.1740264892578, \"y\": 482.9423828125}, {\"x\": 206.3177490234375, \"y\": 512.0}, {\"x\": 204.9692840576172, \"y\": 512.0}, {\"x\": 204.677978515625, \"y\": 495.68646240234375}, {\"x\": 200.429931640625, \"y\": 462.4745788574219}, {\"x\": 194.63714599609375, \"y\": 498.00360107421875}, {\"x\": 195.0233612060547, \"y\": 472.9015808105469}, {\"x\": 194.63714599609375, \"y\": 445.8686218261719}, {\"x\": 191.5476837158203, \"y\": 424.2422790527344}, {\"x\": 185.75489807128906, \"y\": 450.5028381347656}, {\"x\": 186.14109802246094, \"y\": 419.6080627441406}, {\"x\": 181.5068817138672, \"y\": 456.2956237792969}, {\"x\": 177.64503479003906, \"y\": 472.12921142578125}, {\"x\": 174.1693572998047, \"y\": 486.41802978515625}, {\"x\": 170.30752563476562, \"y\": 496.4588623046875}, {\"x\": 168.7627716064453, \"y\": 466.7226257324219}, {\"x\": 167.21803283691406, \"y\": 448.5719299316406}, {\"x\": 165.287109375, \"y\": 435.8278503417969}, {\"x\": 161.03907775878906, \"y\": 419.6080627441406}, {\"x\": 152.15682983398438, \"y\": 400.6850280761719}, {\"x\": 149.06735229492188, \"y\": 389.0994567871094}, {\"x\": 148.29498291015625, \"y\": 381.7619323730469}, {\"x\": 149.06735229492188, \"y\": 364.76983642578125}, {\"x\": 140.95745849609375, \"y\": 386.39617919921875}, {\"x\": 136.7094268798828, \"y\": 400.298828125}, {\"x\": 132.46139526367188, \"y\": 418.835693359375}, {\"x\": 128.59954833984375, \"y\": 435.8278503417969}, {\"x\": 125.89625549316406, \"y\": 448.1857604980469}, {\"x\": 124.73770141601562, \"y\": 431.579833984375}, {\"x\": 123.96533203125, \"y\": 414.5876770019531}, {\"x\": 123.96533203125, \"y\": 383.30670166015625}, {\"x\": 117.786376953125, \"y\": 402.229736328125}, {\"x\": 115.8554458618164, \"y\": 408.7948913574219}, {\"x\": 116.62782287597656, \"y\": 390.64422607421875}, {\"x\": 117.01399993896484, \"y\": 369.0178527832031}, {\"x\": 115.8554458618164, \"y\": 348.1638488769531}, {\"x\": 103.1113510131836, \"y\": 367.47314453125}, {\"x\": 107.35938262939453, \"y\": 348.1638488769531}, {\"x\": 108.13175964355469, \"y\": 330.39935302734375}, {\"x\": 111.607421875, \"y\": 310.7039489746094}, {\"x\": 116.62782287597656, \"y\": 293.7117919921875}, {\"x\": 117.786376953125, \"y\": 290.23614501953125}, {\"x\": 122.42059326171875, \"y\": 279.03680419921875}, {\"x\": 126.28244018554688, \"y\": 264.7479553222656}, {\"x\": 131.68902587890625, \"y\": 247.36962890625}, {\"x\": 136.3232421875, \"y\": 238.8735809326172}, {\"x\": 141.72984313964844, \"y\": 231.53604125976562}, {\"x\": 144.43313598632812, \"y\": 226.1294708251953}, {\"x\": 150.2259063720703, \"y\": 216.0886688232422}, {\"x\": 161.35560607910156, \"y\": 182.47357177734375}, {\"x\": 163.0540771484375, \"y\": 168.5460205078125}, {\"x\": 165.09225463867188, \"y\": 154.6184844970703}, {\"x\": 166.45103454589844, \"y\": 144.08790588378906}, {\"x\": 167.80982971191406, \"y\": 134.576416015625}, {\"x\": 169.50830078125, \"y\": 123.366455078125}, {\"x\": 171.54647827148438, \"y\": 114.19466400146484}, {\"x\": 172.56556701660156, \"y\": 103.32439422607422}, {\"x\": 174.26405334472656, \"y\": 91.09532928466797}, {\"x\": 177.6610107421875, \"y\": 76.4884033203125}, {\"x\": 181.05796813964844, \"y\": 63.91965866088867}, {\"x\": 185.1343231201172, \"y\": 51.69060134887695}, {\"x\": 188.53126525878906, \"y\": 42.17911148071289}, {\"x\": 192.2679443359375, \"y\": 34.7057991027832}, {\"x\": 198.04275512695312, \"y\": 27.91187858581543}]]',\n",
       " 'polygon2': '[]',\n",
       " 'before-after': 'after',\n",
       " 'height': 512.0,\n",
       " 'width': 512.0,\n",
       " 'device': 'SM-N950N',\n",
       " 'hair-width': '보통',\n",
       " 'water-repellency': '무',\n",
       " 'natural-curl': '생머리',\n",
       " 'damage': '극손상모',\n",
       " 'melanin-color': '적멜라닌',\n",
       " 'decolorize-history': 4,\n",
       " 'black-colorize': '무',\n",
       " 'patch-test': '무',\n",
       " 'user-stisfied': '5',\n",
       " 'designer-satisfied': '5',\n",
       " 'comment': '@',\n",
       " 'has_exif': True,\n",
       " 'make': 'samsung',\n",
       " 'model': 'SM-N950N',\n",
       " 'orientation': 6,\n",
       " 'x_resolution': 72,\n",
       " 'y_resolution': 72,\n",
       " 'resolution_unit': 2,\n",
       " 'software': 'N950NKSU5DTJ3',\n",
       " 'datetime': '2020:12:11 18:34:35',\n",
       " 'y_and_c_positioning': 1,\n",
       " '_exif_ifd_pointer': 202,\n",
       " 'exposure_time': 0.066666666666666,\n",
       " 'f_number': 1.7000000000000002,\n",
       " 'exposure_program': 1,\n",
       " 'photographic_sensitivity': 50,\n",
       " 'exif_version': '0220',\n",
       " 'datetime_original': '2020:12:11 18:34:35',\n",
       " 'datetime_digitized': '2020:12:11 18:34:35',\n",
       " 'components_configuration': '',\n",
       " 'shutter_speed_value': 3.91,\n",
       " 'aperture_value': 1.53,\n",
       " 'brightness_value': 1.46,\n",
       " 'exposure_bias_value': 0.0,\n",
       " 'max_aperture_value': 1.53,\n",
       " 'metering_mode': 3,\n",
       " 'flash': {'flash_fired': False,\n",
       "  'flash_return': 0,\n",
       "  'flash_mode': 0,\n",
       "  'flash_function_not_present': False,\n",
       "  'red_eye_reduction_supported': False,\n",
       "  'reserved': 0},\n",
       " 'focal_length': 4.3,\n",
       " 'maker_note': '',\n",
       " 'user_comment': '\\x00\\x00\\x00\\x00\\x00',\n",
       " 'subsec_time': '1970-01-01 00:03:49',\n",
       " 'subsec_time_original': '0229',\n",
       " 'subsec_time_digitized': '0229',\n",
       " 'flashpix_version': '',\n",
       " 'color_space': 1,\n",
       " 'pixel_x_dimension': 4032,\n",
       " 'pixel_y_dimension': 3024,\n",
       " '_interoperability_ifd_Pointer': '',\n",
       " 'scene_type': '',\n",
       " 'exposure_mode': 0,\n",
       " 'white_balance': 1,\n",
       " 'digital_zoom_ratio': 0.0,\n",
       " 'focal_length_in_35mm_film': 26,\n",
       " 'scene_capture_type': 0,\n",
       " 'contrast': 0,\n",
       " 'saturation': 0,\n",
       " 'sharpness': 0,\n",
       " 'image_unique_id': 'G12LLKA02SM G12LLKL01GM\\n',\n",
       " 'image_width': 504,\n",
       " 'image_height': 376,\n",
       " 'compression': 6,\n",
       " 'jpeg_interchange_format': 1068,\n",
       " 'jpeg_interchange_format_length': 26114,\n",
       " 'sensing_method': 0,\n",
       " 'custom_rendered': 0,\n",
       " 'artist': '',\n",
       " 'copyright': '',\n",
       " 'sensitivity_type': 0,\n",
       " 'recommended_exposure_index': 0,\n",
       " 'focal_plane_x_resolution': 0.0,\n",
       " 'focal_plane_y_resolution': 0.0,\n",
       " 'focal_plane_resolution_unit': 0,\n",
       " 'camera_owner_name': '',\n",
       " 'body_serial_number': '',\n",
       " 'lens_specification': '',\n",
       " 'lens_model': '',\n",
       " 'lens_serial_number': '',\n",
       " 'offset_time': '',\n",
       " 'offset_time_original': '',\n",
       " 'offset_time_digitized': '',\n",
       " 'subject_area': 0,\n",
       " 'lens_make': '',\n",
       " 'image_description': '',\n",
       " 'compressed_bits_per_pixel': 0,\n",
       " 'light_source': 0,\n",
       " 'file_source': '',\n",
       " 'cfa_pattern': '',\n",
       " 'gain_control': 0,\n",
       " 'subject_distance_range': 0,\n",
       " 'white_point': '',\n",
       " 'primary_chromaticities': '',\n",
       " 'matrix_coefficients': '',\n",
       " 'gamma': 0.0,\n",
       " 'bits_per_sample': 0,\n",
       " 'photometric_interpretation': 0,\n",
       " 'samples_per_pixel': 0,\n",
       " 'reference_black_white': '',\n",
       " 'restype': 'mqset',\n",
       " 'is_sample': False,\n",
       " 'filename': 'DSS466959-092.jpg'}"
      ]
     },
     "execution_count": 10,
     "metadata": {},
     "output_type": "execute_result"
    }
   ],
   "source": [
    "with open(\n",
    "    f\"{data_path}/validation_labels/0002.mqset/0031.φ₧êφö╝/1748.DSS466959/DSS466959_092.json\"\n",
    ") as f:\n",
    "    data = json.load(f)\n",
    "\n",
    "data"
   ]
  },
  {
   "cell_type": "code",
   "execution_count": 11,
   "metadata": {
    "id": "B4N015F-hhlC"
   },
   "outputs": [],
   "source": [
    "from glob import glob\n",
    "\n",
    "hits = glob(f\"{data_path}/validation_labels/0002.mqset/**/*.json\", recursive=True)"
   ]
  },
  {
   "cell_type": "code",
   "execution_count": 12,
   "metadata": {
    "id": "394iLqt3iFYv",
    "tags": []
   },
   "outputs": [
    {
     "name": "stderr",
     "output_type": "stream",
     "text": [
      "100%|████████████████████████████████████████████████████████████████████████████████████████████████████████████████████████████████████████████████████████████████████████████████████████| 48252/48252 [01:17<00:00, 624.14it/s]\n"
     ]
    }
   ],
   "source": [
    "annotation_df = pd.DataFrame()\n",
    "\n",
    "for path in tqdm(hits):\n",
    "    with open(path) as f:\n",
    "        data = json.load(f)\n",
    "\n",
    "        interesting_keys = (\"id\", \"basestyle\", \"length\", \"filename\", \"json_path\")\n",
    "        subdict = {x: data[x] for x in interesting_keys if x in data}\n",
    "        tmp_df = pd.DataFrame([subdict])\n",
    "\n",
    "        tmp_df[\"json_path\"] = path\n",
    "        tmp_df[\"img_dir_path\"] = (\n",
    "            tmp_df.json_path.str.replace(\"validation_labels\", \"validation_imgs\")\n",
    "            .str.rsplit(\"/\", n=1)\n",
    "            .apply(lambda x: x[0])\n",
    "        )\n",
    "\n",
    "        annotation_df = pd.concat([annotation_df, tmp_df])\n",
    "\n",
    "annotation_df.reset_index(drop=True, inplace=True)"
   ]
  },
  {
   "cell_type": "code",
   "execution_count": 13,
   "metadata": {
    "id": "1wxs-Js3mgaQ"
   },
   "outputs": [
    {
     "data": {
      "text/html": [
       "<div>\n",
       "<style scoped>\n",
       "    .dataframe tbody tr th:only-of-type {\n",
       "        vertical-align: middle;\n",
       "    }\n",
       "\n",
       "    .dataframe tbody tr th {\n",
       "        vertical-align: top;\n",
       "    }\n",
       "\n",
       "    .dataframe thead th {\n",
       "        text-align: right;\n",
       "    }\n",
       "</style>\n",
       "<table border=\"1\" class=\"dataframe\">\n",
       "  <thead>\n",
       "    <tr style=\"text-align: right;\">\n",
       "      <th></th>\n",
       "      <th>id</th>\n",
       "      <th>basestyle</th>\n",
       "      <th>length</th>\n",
       "      <th>filename</th>\n",
       "      <th>json_path</th>\n",
       "      <th>img_dir_path</th>\n",
       "    </tr>\n",
       "  </thead>\n",
       "  <tbody>\n",
       "    <tr>\n",
       "      <th>0</th>\n",
       "      <td>da597506-1028-401c-a7a0-39fcde344dcd</td>\n",
       "      <td>스핀스왈로</td>\n",
       "      <td>남자</td>\n",
       "      <td>DSS864941-040.jpg</td>\n",
       "      <td>data/validation_labels/0002.mqset/0020.∞èñφòÇ∞...</td>\n",
       "      <td>data/validation_imgs/0002.mqset/0020.∞èñφòÇ∞èñ...</td>\n",
       "    </tr>\n",
       "    <tr>\n",
       "      <th>1</th>\n",
       "      <td>4da6755e-44cf-4593-8f33-4232b8489524</td>\n",
       "      <td>스핀스왈로</td>\n",
       "      <td>남자</td>\n",
       "      <td>DSS864941-017.jpg</td>\n",
       "      <td>data/validation_labels/0002.mqset/0020.∞èñφòÇ∞...</td>\n",
       "      <td>data/validation_imgs/0002.mqset/0020.∞èñφòÇ∞èñ...</td>\n",
       "    </tr>\n",
       "    <tr>\n",
       "      <th>2</th>\n",
       "      <td>a99e1160-f2ce-40f4-a2f3-8d929f9d3f66</td>\n",
       "      <td>스핀스왈로</td>\n",
       "      <td>남자</td>\n",
       "      <td>DSS864941-001.jpg</td>\n",
       "      <td>data/validation_labels/0002.mqset/0020.∞èñφòÇ∞...</td>\n",
       "      <td>data/validation_imgs/0002.mqset/0020.∞èñφòÇ∞èñ...</td>\n",
       "    </tr>\n",
       "    <tr>\n",
       "      <th>3</th>\n",
       "      <td>a907d830-4990-40e6-8eb6-cfe0bd0537a4</td>\n",
       "      <td>스핀스왈로</td>\n",
       "      <td>남자</td>\n",
       "      <td>DSS864941-083.jpg</td>\n",
       "      <td>data/validation_labels/0002.mqset/0020.∞èñφòÇ∞...</td>\n",
       "      <td>data/validation_imgs/0002.mqset/0020.∞èñφòÇ∞èñ...</td>\n",
       "    </tr>\n",
       "    <tr>\n",
       "      <th>4</th>\n",
       "      <td>d8c39d24-c86c-4960-ac6a-e1a9043c805c</td>\n",
       "      <td>스핀스왈로</td>\n",
       "      <td>남자</td>\n",
       "      <td>DSS864941-076.jpg</td>\n",
       "      <td>data/validation_labels/0002.mqset/0020.∞èñφòÇ∞...</td>\n",
       "      <td>data/validation_imgs/0002.mqset/0020.∞èñφòÇ∞èñ...</td>\n",
       "    </tr>\n",
       "    <tr>\n",
       "      <th>...</th>\n",
       "      <td>...</td>\n",
       "      <td>...</td>\n",
       "      <td>...</td>\n",
       "      <td>...</td>\n",
       "      <td>...</td>\n",
       "      <td>...</td>\n",
       "    </tr>\n",
       "    <tr>\n",
       "      <th>48247</th>\n",
       "      <td>c606e585-d622-4951-a16e-82f1d1ed1942</td>\n",
       "      <td>숏단발</td>\n",
       "      <td>단발</td>\n",
       "      <td>DSS196309-091.jpg</td>\n",
       "      <td>data/validation_labels/0002.mqset/0017.∞êÅδï¿δ...</td>\n",
       "      <td>data/validation_imgs/0002.mqset/0017.∞êÅδï¿δ░£...</td>\n",
       "    </tr>\n",
       "    <tr>\n",
       "      <th>48248</th>\n",
       "      <td>7d07a95b-4cc4-42f2-bd13-ba2e32b45efb</td>\n",
       "      <td>숏단발</td>\n",
       "      <td>단발</td>\n",
       "      <td>DSS196309-068.jpg</td>\n",
       "      <td>data/validation_labels/0002.mqset/0017.∞êÅδï¿δ...</td>\n",
       "      <td>data/validation_imgs/0002.mqset/0017.∞êÅδï¿δ░£...</td>\n",
       "    </tr>\n",
       "    <tr>\n",
       "      <th>48249</th>\n",
       "      <td>68eb1012-70d0-4ed4-8f71-47742b7e0f7e</td>\n",
       "      <td>숏단발</td>\n",
       "      <td>단발</td>\n",
       "      <td>DSS196309-048.jpg</td>\n",
       "      <td>data/validation_labels/0002.mqset/0017.∞êÅδï¿δ...</td>\n",
       "      <td>data/validation_imgs/0002.mqset/0017.∞êÅδï¿δ░£...</td>\n",
       "    </tr>\n",
       "    <tr>\n",
       "      <th>48250</th>\n",
       "      <td>b9265494-88bb-49ee-8419-588a3038e3df</td>\n",
       "      <td>숏단발</td>\n",
       "      <td>단발</td>\n",
       "      <td>DSS196309-009.jpg</td>\n",
       "      <td>data/validation_labels/0002.mqset/0017.∞êÅδï¿δ...</td>\n",
       "      <td>data/validation_imgs/0002.mqset/0017.∞êÅδï¿δ░£...</td>\n",
       "    </tr>\n",
       "    <tr>\n",
       "      <th>48251</th>\n",
       "      <td>51268d2f-8aad-4871-be5b-872aa8d055d6</td>\n",
       "      <td>숏단발</td>\n",
       "      <td>단발</td>\n",
       "      <td>DSS196309-072.jpg</td>\n",
       "      <td>data/validation_labels/0002.mqset/0017.∞êÅδï¿δ...</td>\n",
       "      <td>data/validation_imgs/0002.mqset/0017.∞êÅδï¿δ░£...</td>\n",
       "    </tr>\n",
       "  </tbody>\n",
       "</table>\n",
       "<p>48252 rows × 6 columns</p>\n",
       "</div>"
      ],
      "text/plain": [
       "                                         id basestyle length  \\\n",
       "0      da597506-1028-401c-a7a0-39fcde344dcd     스핀스왈로     남자   \n",
       "1      4da6755e-44cf-4593-8f33-4232b8489524     스핀스왈로     남자   \n",
       "2      a99e1160-f2ce-40f4-a2f3-8d929f9d3f66     스핀스왈로     남자   \n",
       "3      a907d830-4990-40e6-8eb6-cfe0bd0537a4     스핀스왈로     남자   \n",
       "4      d8c39d24-c86c-4960-ac6a-e1a9043c805c     스핀스왈로     남자   \n",
       "...                                     ...       ...    ...   \n",
       "48247  c606e585-d622-4951-a16e-82f1d1ed1942       숏단발     단발   \n",
       "48248  7d07a95b-4cc4-42f2-bd13-ba2e32b45efb       숏단발     단발   \n",
       "48249  68eb1012-70d0-4ed4-8f71-47742b7e0f7e       숏단발     단발   \n",
       "48250  b9265494-88bb-49ee-8419-588a3038e3df       숏단발     단발   \n",
       "48251  51268d2f-8aad-4871-be5b-872aa8d055d6       숏단발     단발   \n",
       "\n",
       "                filename                                          json_path  \\\n",
       "0      DSS864941-040.jpg  data/validation_labels/0002.mqset/0020.∞èñφòÇ∞...   \n",
       "1      DSS864941-017.jpg  data/validation_labels/0002.mqset/0020.∞èñφòÇ∞...   \n",
       "2      DSS864941-001.jpg  data/validation_labels/0002.mqset/0020.∞èñφòÇ∞...   \n",
       "3      DSS864941-083.jpg  data/validation_labels/0002.mqset/0020.∞èñφòÇ∞...   \n",
       "4      DSS864941-076.jpg  data/validation_labels/0002.mqset/0020.∞èñφòÇ∞...   \n",
       "...                  ...                                                ...   \n",
       "48247  DSS196309-091.jpg  data/validation_labels/0002.mqset/0017.∞êÅδï¿δ...   \n",
       "48248  DSS196309-068.jpg  data/validation_labels/0002.mqset/0017.∞êÅδï¿δ...   \n",
       "48249  DSS196309-048.jpg  data/validation_labels/0002.mqset/0017.∞êÅδï¿δ...   \n",
       "48250  DSS196309-009.jpg  data/validation_labels/0002.mqset/0017.∞êÅδï¿δ...   \n",
       "48251  DSS196309-072.jpg  data/validation_labels/0002.mqset/0017.∞êÅδï¿δ...   \n",
       "\n",
       "                                            img_dir_path  \n",
       "0      data/validation_imgs/0002.mqset/0020.∞èñφòÇ∞èñ...  \n",
       "1      data/validation_imgs/0002.mqset/0020.∞èñφòÇ∞èñ...  \n",
       "2      data/validation_imgs/0002.mqset/0020.∞èñφòÇ∞èñ...  \n",
       "3      data/validation_imgs/0002.mqset/0020.∞èñφòÇ∞èñ...  \n",
       "4      data/validation_imgs/0002.mqset/0020.∞èñφòÇ∞èñ...  \n",
       "...                                                  ...  \n",
       "48247  data/validation_imgs/0002.mqset/0017.∞êÅδï¿δ░£...  \n",
       "48248  data/validation_imgs/0002.mqset/0017.∞êÅδï¿δ░£...  \n",
       "48249  data/validation_imgs/0002.mqset/0017.∞êÅδï¿δ░£...  \n",
       "48250  data/validation_imgs/0002.mqset/0017.∞êÅδï¿δ░£...  \n",
       "48251  data/validation_imgs/0002.mqset/0017.∞êÅδï¿δ░£...  \n",
       "\n",
       "[48252 rows x 6 columns]"
      ]
     },
     "execution_count": 13,
     "metadata": {},
     "output_type": "execute_result"
    }
   ],
   "source": [
    "annotation_df"
   ]
  },
  {
   "cell_type": "code",
   "execution_count": 25,
   "metadata": {},
   "outputs": [
    {
     "name": "stderr",
     "output_type": "stream",
     "text": [
      "\n",
      "  0%|                                                                                                                                                                                                       | 0/966 [00:00<?, ?it/s]\u001b[A\n",
      "  0%|▏                                                                                                                                                                                            | 1/966 [00:08<2:14:38,  8.37s/it]\u001b[A\n",
      "  0%|▍                                                                                                                                                                                            | 2/966 [00:16<2:13:16,  8.29s/it]\u001b[A\n",
      "  0%|▌                                                                                                                                                                                            | 3/966 [00:25<2:14:06,  8.36s/it]\u001b[A\n",
      "  0%|▊                                                                                                                                                                                            | 4/966 [00:33<2:14:37,  8.40s/it]\u001b[A\n",
      "  1%|▉                                                                                                                                                                                            | 5/966 [00:41<2:13:52,  8.36s/it]\u001b[A\n",
      "  1%|█▏                                                                                                                                                                                           | 6/966 [00:50<2:13:28,  8.34s/it]\u001b[A\n",
      "  1%|█▎                                                                                                                                                                                           | 7/966 [00:58<2:13:21,  8.34s/it]\u001b[A\n",
      "  1%|█▌                                                                                                                                                                                           | 8/966 [01:06<2:13:24,  8.36s/it]\u001b[A\n",
      "  1%|█▊                                                                                                                                                                                           | 9/966 [01:15<2:13:26,  8.37s/it]\u001b[A\n",
      "  1%|█▉                                                                                                                                                                                          | 10/966 [01:23<2:12:40,  8.33s/it]\u001b[A\n",
      "  1%|██▏                                                                                                                                                                                         | 11/966 [01:30<2:08:16,  8.06s/it]\u001b[A\n",
      "  1%|██▎                                                                                                                                                                                         | 12/966 [01:38<2:05:24,  7.89s/it]\u001b[A\n",
      "  1%|██▌                                                                                                                                                                                         | 13/966 [01:46<2:07:24,  8.02s/it]\u001b[A\n",
      "  1%|██▋                                                                                                                                                                                         | 14/966 [01:55<2:08:40,  8.11s/it]\u001b[A\n",
      "  2%|██▉                                                                                                                                                                                         | 15/966 [02:03<2:10:22,  8.23s/it]\u001b[A\n",
      "  2%|███                                                                                                                                                                                         | 16/966 [02:11<2:09:39,  8.19s/it]\u001b[A\n",
      "  2%|███▎                                                                                                                                                                                        | 17/966 [02:19<2:09:41,  8.20s/it]\u001b[A\n",
      "  2%|███▌                                                                                                                                                                                        | 18/966 [02:28<2:10:12,  8.24s/it]\u001b[A\n",
      "  2%|███▋                                                                                                                                                                                        | 19/966 [02:36<2:09:17,  8.19s/it]\u001b[A\n",
      "  2%|███▉                                                                                                                                                                                        | 20/966 [02:44<2:09:03,  8.19s/it]\u001b[A\n",
      "  2%|████                                                                                                                                                                                        | 21/966 [02:52<2:09:07,  8.20s/it]\u001b[A\n",
      "  2%|████▎                                                                                                                                                                                       | 22/966 [03:01<2:11:55,  8.38s/it]\u001b[A\n",
      "  2%|████▍                                                                                                                                                                                       | 23/966 [03:09<2:11:19,  8.36s/it]\u001b[A\n",
      "  2%|████▋                                                                                                                                                                                       | 24/966 [03:18<2:11:56,  8.40s/it]\u001b[A\n",
      "  3%|████▊                                                                                                                                                                                       | 25/966 [03:26<2:11:38,  8.39s/it]\u001b[A\n",
      "  3%|█████                                                                                                                                                                                       | 26/966 [03:34<2:07:13,  8.12s/it]\u001b[A\n",
      "  3%|█████▎                                                                                                                                                                                      | 27/966 [03:42<2:08:37,  8.22s/it]\u001b[A\n",
      "  3%|█████▍                                                                                                                                                                                      | 28/966 [03:50<2:09:03,  8.26s/it]\u001b[A"
     ]
    },
    {
     "ename": "KeyboardInterrupt",
     "evalue": "",
     "output_type": "error",
     "traceback": [
      "\u001b[0;31m---------------------------------------------------------------------------\u001b[0m",
      "\u001b[0;31mKeyboardInterrupt\u001b[0m                         Traceback (most recent call last)",
      "\u001b[0;32m/var/folders/mf/f1qykghs68x1pld3xlx24t5c0000gn/T/ipykernel_44122/1873838705.py\u001b[0m in \u001b[0;36m<cell line: 6>\u001b[0;34m()\u001b[0m\n\u001b[1;32m      4\u001b[0m \u001b[0mbatch_size\u001b[0m \u001b[0;34m=\u001b[0m \u001b[0;36m50\u001b[0m\u001b[0;34m\u001b[0m\u001b[0;34m\u001b[0m\u001b[0m\n\u001b[1;32m      5\u001b[0m \u001b[0mbatches\u001b[0m \u001b[0;34m=\u001b[0m \u001b[0;34m[\u001b[0m\u001b[0mlabels\u001b[0m\u001b[0;34m[\u001b[0m\u001b[0mi\u001b[0m \u001b[0;34m:\u001b[0m \u001b[0mi\u001b[0m \u001b[0;34m+\u001b[0m \u001b[0mbatch_size\u001b[0m\u001b[0;34m]\u001b[0m \u001b[0;32mfor\u001b[0m \u001b[0mi\u001b[0m \u001b[0;32min\u001b[0m \u001b[0mrange\u001b[0m\u001b[0;34m(\u001b[0m\u001b[0;36m0\u001b[0m\u001b[0;34m,\u001b[0m \u001b[0mlen\u001b[0m\u001b[0;34m(\u001b[0m\u001b[0mlabels\u001b[0m\u001b[0;34m)\u001b[0m\u001b[0;34m,\u001b[0m \u001b[0mbatch_size\u001b[0m\u001b[0;34m)\u001b[0m\u001b[0;34m]\u001b[0m\u001b[0;34m\u001b[0m\u001b[0;34m\u001b[0m\u001b[0m\n\u001b[0;32m----> 6\u001b[0;31m annotation_df[\"basestyle\"] = [\n\u001b[0m\u001b[1;32m      7\u001b[0m     \u001b[0mtrans\u001b[0m \u001b[0;32mfor\u001b[0m \u001b[0mbatch\u001b[0m \u001b[0;32min\u001b[0m \u001b[0mtqdm\u001b[0m\u001b[0;34m(\u001b[0m\u001b[0mbatches\u001b[0m\u001b[0;34m)\u001b[0m \u001b[0;32mfor\u001b[0m \u001b[0mtrans\u001b[0m \u001b[0;32min\u001b[0m \u001b[0mtranslator\u001b[0m\u001b[0;34m.\u001b[0m\u001b[0mtranslate\u001b[0m\u001b[0;34m(\u001b[0m\u001b[0mbatch\u001b[0m\u001b[0;34m)\u001b[0m\u001b[0;34m\u001b[0m\u001b[0;34m\u001b[0m\u001b[0m\n\u001b[1;32m      8\u001b[0m ]\n",
      "\u001b[0;32m/var/folders/mf/f1qykghs68x1pld3xlx24t5c0000gn/T/ipykernel_44122/1873838705.py\u001b[0m in \u001b[0;36m<listcomp>\u001b[0;34m(.0)\u001b[0m\n\u001b[1;32m      5\u001b[0m \u001b[0mbatches\u001b[0m \u001b[0;34m=\u001b[0m \u001b[0;34m[\u001b[0m\u001b[0mlabels\u001b[0m\u001b[0;34m[\u001b[0m\u001b[0mi\u001b[0m \u001b[0;34m:\u001b[0m \u001b[0mi\u001b[0m \u001b[0;34m+\u001b[0m \u001b[0mbatch_size\u001b[0m\u001b[0;34m]\u001b[0m \u001b[0;32mfor\u001b[0m \u001b[0mi\u001b[0m \u001b[0;32min\u001b[0m \u001b[0mrange\u001b[0m\u001b[0;34m(\u001b[0m\u001b[0;36m0\u001b[0m\u001b[0;34m,\u001b[0m \u001b[0mlen\u001b[0m\u001b[0;34m(\u001b[0m\u001b[0mlabels\u001b[0m\u001b[0;34m)\u001b[0m\u001b[0;34m,\u001b[0m \u001b[0mbatch_size\u001b[0m\u001b[0;34m)\u001b[0m\u001b[0;34m]\u001b[0m\u001b[0;34m\u001b[0m\u001b[0;34m\u001b[0m\u001b[0m\n\u001b[1;32m      6\u001b[0m annotation_df[\"basestyle\"] = [\n\u001b[0;32m----> 7\u001b[0;31m     \u001b[0mtrans\u001b[0m \u001b[0;32mfor\u001b[0m \u001b[0mbatch\u001b[0m \u001b[0;32min\u001b[0m \u001b[0mtqdm\u001b[0m\u001b[0;34m(\u001b[0m\u001b[0mbatches\u001b[0m\u001b[0;34m)\u001b[0m \u001b[0;32mfor\u001b[0m \u001b[0mtrans\u001b[0m \u001b[0;32min\u001b[0m \u001b[0mtranslator\u001b[0m\u001b[0;34m.\u001b[0m\u001b[0mtranslate\u001b[0m\u001b[0;34m(\u001b[0m\u001b[0mbatch\u001b[0m\u001b[0;34m)\u001b[0m\u001b[0;34m\u001b[0m\u001b[0;34m\u001b[0m\u001b[0m\n\u001b[0m\u001b[1;32m      8\u001b[0m ]\n",
      "\u001b[0;32m~/.virtualenvs/masters/lib/python3.10/site-packages/googletrans/client.py\u001b[0m in \u001b[0;36mtranslate\u001b[0;34m(self, text, dest, src, **kwargs)\u001b[0m\n\u001b[1;32m    203\u001b[0m             \u001b[0mresult\u001b[0m \u001b[0;34m=\u001b[0m \u001b[0;34m[\u001b[0m\u001b[0;34m]\u001b[0m\u001b[0;34m\u001b[0m\u001b[0;34m\u001b[0m\u001b[0m\n\u001b[1;32m    204\u001b[0m             \u001b[0;32mfor\u001b[0m \u001b[0mitem\u001b[0m \u001b[0;32min\u001b[0m \u001b[0mtext\u001b[0m\u001b[0;34m:\u001b[0m\u001b[0;34m\u001b[0m\u001b[0;34m\u001b[0m\u001b[0m\n\u001b[0;32m--> 205\u001b[0;31m                 \u001b[0mtranslated\u001b[0m \u001b[0;34m=\u001b[0m \u001b[0mself\u001b[0m\u001b[0;34m.\u001b[0m\u001b[0mtranslate\u001b[0m\u001b[0;34m(\u001b[0m\u001b[0mitem\u001b[0m\u001b[0;34m,\u001b[0m \u001b[0mdest\u001b[0m\u001b[0;34m=\u001b[0m\u001b[0mdest\u001b[0m\u001b[0;34m,\u001b[0m \u001b[0msrc\u001b[0m\u001b[0;34m=\u001b[0m\u001b[0msrc\u001b[0m\u001b[0;34m,\u001b[0m \u001b[0;34m**\u001b[0m\u001b[0mkwargs\u001b[0m\u001b[0;34m)\u001b[0m\u001b[0;34m\u001b[0m\u001b[0;34m\u001b[0m\u001b[0m\n\u001b[0m\u001b[1;32m    206\u001b[0m                 \u001b[0mresult\u001b[0m\u001b[0;34m.\u001b[0m\u001b[0mappend\u001b[0m\u001b[0;34m(\u001b[0m\u001b[0mtranslated\u001b[0m\u001b[0;34m)\u001b[0m\u001b[0;34m\u001b[0m\u001b[0;34m\u001b[0m\u001b[0m\n\u001b[1;32m    207\u001b[0m             \u001b[0;32mreturn\u001b[0m \u001b[0mresult\u001b[0m\u001b[0;34m\u001b[0m\u001b[0;34m\u001b[0m\u001b[0m\n",
      "\u001b[0;32m~/.virtualenvs/masters/lib/python3.10/site-packages/googletrans/client.py\u001b[0m in \u001b[0;36mtranslate\u001b[0;34m(self, text, dest, src, **kwargs)\u001b[0m\n\u001b[1;32m    208\u001b[0m \u001b[0;34m\u001b[0m\u001b[0m\n\u001b[1;32m    209\u001b[0m         \u001b[0morigin\u001b[0m \u001b[0;34m=\u001b[0m \u001b[0mtext\u001b[0m\u001b[0;34m\u001b[0m\u001b[0;34m\u001b[0m\u001b[0m\n\u001b[0;32m--> 210\u001b[0;31m         \u001b[0mdata\u001b[0m\u001b[0;34m,\u001b[0m \u001b[0mresponse\u001b[0m \u001b[0;34m=\u001b[0m \u001b[0mself\u001b[0m\u001b[0;34m.\u001b[0m\u001b[0m_translate\u001b[0m\u001b[0;34m(\u001b[0m\u001b[0mtext\u001b[0m\u001b[0;34m,\u001b[0m \u001b[0mdest\u001b[0m\u001b[0;34m,\u001b[0m \u001b[0msrc\u001b[0m\u001b[0;34m,\u001b[0m \u001b[0mkwargs\u001b[0m\u001b[0;34m)\u001b[0m\u001b[0;34m\u001b[0m\u001b[0;34m\u001b[0m\u001b[0m\n\u001b[0m\u001b[1;32m    211\u001b[0m \u001b[0;34m\u001b[0m\u001b[0m\n\u001b[1;32m    212\u001b[0m         \u001b[0;31m# this code will be updated when the format is changed.\u001b[0m\u001b[0;34m\u001b[0m\u001b[0;34m\u001b[0m\u001b[0m\n",
      "\u001b[0;32m~/.virtualenvs/masters/lib/python3.10/site-packages/googletrans/client.py\u001b[0m in \u001b[0;36m_translate\u001b[0;34m(self, text, dest, src, override)\u001b[0m\n\u001b[1;32m    106\u001b[0m \u001b[0;34m\u001b[0m\u001b[0m\n\u001b[1;32m    107\u001b[0m         \u001b[0murl\u001b[0m \u001b[0;34m=\u001b[0m \u001b[0murls\u001b[0m\u001b[0;34m.\u001b[0m\u001b[0mTRANSLATE\u001b[0m\u001b[0;34m.\u001b[0m\u001b[0mformat\u001b[0m\u001b[0;34m(\u001b[0m\u001b[0mhost\u001b[0m\u001b[0;34m=\u001b[0m\u001b[0mself\u001b[0m\u001b[0;34m.\u001b[0m\u001b[0m_pick_service_url\u001b[0m\u001b[0;34m(\u001b[0m\u001b[0;34m)\u001b[0m\u001b[0;34m)\u001b[0m\u001b[0;34m\u001b[0m\u001b[0;34m\u001b[0m\u001b[0m\n\u001b[0;32m--> 108\u001b[0;31m         \u001b[0mr\u001b[0m \u001b[0;34m=\u001b[0m \u001b[0mself\u001b[0m\u001b[0;34m.\u001b[0m\u001b[0mclient\u001b[0m\u001b[0;34m.\u001b[0m\u001b[0mget\u001b[0m\u001b[0;34m(\u001b[0m\u001b[0murl\u001b[0m\u001b[0;34m,\u001b[0m \u001b[0mparams\u001b[0m\u001b[0;34m=\u001b[0m\u001b[0mparams\u001b[0m\u001b[0;34m)\u001b[0m\u001b[0;34m\u001b[0m\u001b[0;34m\u001b[0m\u001b[0m\n\u001b[0m\u001b[1;32m    109\u001b[0m \u001b[0;34m\u001b[0m\u001b[0m\n\u001b[1;32m    110\u001b[0m         \u001b[0;32mif\u001b[0m \u001b[0mr\u001b[0m\u001b[0;34m.\u001b[0m\u001b[0mstatus_code\u001b[0m \u001b[0;34m==\u001b[0m \u001b[0;36m200\u001b[0m\u001b[0;34m:\u001b[0m\u001b[0;34m\u001b[0m\u001b[0;34m\u001b[0m\u001b[0m\n",
      "\u001b[0;32m~/.virtualenvs/masters/lib/python3.10/site-packages/httpx/_client.py\u001b[0m in \u001b[0;36mget\u001b[0;34m(self, url, params, headers, cookies, auth, allow_redirects, timeout)\u001b[0m\n\u001b[1;32m    753\u001b[0m         \u001b[0mtimeout\u001b[0m\u001b[0;34m:\u001b[0m \u001b[0mtyping\u001b[0m\u001b[0;34m.\u001b[0m\u001b[0mUnion\u001b[0m\u001b[0;34m[\u001b[0m\u001b[0mTimeoutTypes\u001b[0m\u001b[0;34m,\u001b[0m \u001b[0mUnsetType\u001b[0m\u001b[0;34m]\u001b[0m \u001b[0;34m=\u001b[0m \u001b[0mUNSET\u001b[0m\u001b[0;34m,\u001b[0m\u001b[0;34m\u001b[0m\u001b[0;34m\u001b[0m\u001b[0m\n\u001b[1;32m    754\u001b[0m     ) -> Response:\n\u001b[0;32m--> 755\u001b[0;31m         return self.request(\n\u001b[0m\u001b[1;32m    756\u001b[0m             \u001b[0;34m\"GET\"\u001b[0m\u001b[0;34m,\u001b[0m\u001b[0;34m\u001b[0m\u001b[0;34m\u001b[0m\u001b[0m\n\u001b[1;32m    757\u001b[0m             \u001b[0murl\u001b[0m\u001b[0;34m,\u001b[0m\u001b[0;34m\u001b[0m\u001b[0;34m\u001b[0m\u001b[0m\n",
      "\u001b[0;32m~/.virtualenvs/masters/lib/python3.10/site-packages/httpx/_client.py\u001b[0m in \u001b[0;36mrequest\u001b[0;34m(self, method, url, data, files, json, params, headers, cookies, auth, allow_redirects, timeout)\u001b[0m\n\u001b[1;32m    598\u001b[0m             \u001b[0mcookies\u001b[0m\u001b[0;34m=\u001b[0m\u001b[0mcookies\u001b[0m\u001b[0;34m,\u001b[0m\u001b[0;34m\u001b[0m\u001b[0;34m\u001b[0m\u001b[0m\n\u001b[1;32m    599\u001b[0m         )\n\u001b[0;32m--> 600\u001b[0;31m         return self.send(\n\u001b[0m\u001b[1;32m    601\u001b[0m             \u001b[0mrequest\u001b[0m\u001b[0;34m,\u001b[0m \u001b[0mauth\u001b[0m\u001b[0;34m=\u001b[0m\u001b[0mauth\u001b[0m\u001b[0;34m,\u001b[0m \u001b[0mallow_redirects\u001b[0m\u001b[0;34m=\u001b[0m\u001b[0mallow_redirects\u001b[0m\u001b[0;34m,\u001b[0m \u001b[0mtimeout\u001b[0m\u001b[0;34m=\u001b[0m\u001b[0mtimeout\u001b[0m\u001b[0;34m,\u001b[0m\u001b[0;34m\u001b[0m\u001b[0;34m\u001b[0m\u001b[0m\n\u001b[1;32m    602\u001b[0m         )\n",
      "\u001b[0;32m~/.virtualenvs/masters/lib/python3.10/site-packages/httpx/_client.py\u001b[0m in \u001b[0;36msend\u001b[0;34m(self, request, stream, auth, allow_redirects, timeout)\u001b[0m\n\u001b[1;32m    618\u001b[0m         \u001b[0mauth\u001b[0m \u001b[0;34m=\u001b[0m \u001b[0mself\u001b[0m\u001b[0;34m.\u001b[0m\u001b[0mbuild_auth\u001b[0m\u001b[0;34m(\u001b[0m\u001b[0mrequest\u001b[0m\u001b[0;34m,\u001b[0m \u001b[0mauth\u001b[0m\u001b[0;34m)\u001b[0m\u001b[0;34m\u001b[0m\u001b[0;34m\u001b[0m\u001b[0m\n\u001b[1;32m    619\u001b[0m \u001b[0;34m\u001b[0m\u001b[0m\n\u001b[0;32m--> 620\u001b[0;31m         response = self.send_handling_redirects(\n\u001b[0m\u001b[1;32m    621\u001b[0m             \u001b[0mrequest\u001b[0m\u001b[0;34m,\u001b[0m \u001b[0mauth\u001b[0m\u001b[0;34m=\u001b[0m\u001b[0mauth\u001b[0m\u001b[0;34m,\u001b[0m \u001b[0mtimeout\u001b[0m\u001b[0;34m=\u001b[0m\u001b[0mtimeout\u001b[0m\u001b[0;34m,\u001b[0m \u001b[0mallow_redirects\u001b[0m\u001b[0;34m=\u001b[0m\u001b[0mallow_redirects\u001b[0m\u001b[0;34m,\u001b[0m\u001b[0;34m\u001b[0m\u001b[0;34m\u001b[0m\u001b[0m\n\u001b[1;32m    622\u001b[0m         )\n",
      "\u001b[0;32m~/.virtualenvs/masters/lib/python3.10/site-packages/httpx/_client.py\u001b[0m in \u001b[0;36msend_handling_redirects\u001b[0;34m(self, request, auth, timeout, allow_redirects, history)\u001b[0m\n\u001b[1;32m    645\u001b[0m                 \u001b[0;32mraise\u001b[0m \u001b[0mTooManyRedirects\u001b[0m\u001b[0;34m(\u001b[0m\u001b[0;34m)\u001b[0m\u001b[0;34m\u001b[0m\u001b[0;34m\u001b[0m\u001b[0m\n\u001b[1;32m    646\u001b[0m \u001b[0;34m\u001b[0m\u001b[0m\n\u001b[0;32m--> 647\u001b[0;31m             response = self.send_handling_auth(\n\u001b[0m\u001b[1;32m    648\u001b[0m                 \u001b[0mrequest\u001b[0m\u001b[0;34m,\u001b[0m \u001b[0mauth\u001b[0m\u001b[0;34m=\u001b[0m\u001b[0mauth\u001b[0m\u001b[0;34m,\u001b[0m \u001b[0mtimeout\u001b[0m\u001b[0;34m=\u001b[0m\u001b[0mtimeout\u001b[0m\u001b[0;34m,\u001b[0m \u001b[0mhistory\u001b[0m\u001b[0;34m=\u001b[0m\u001b[0mhistory\u001b[0m\u001b[0;34m\u001b[0m\u001b[0;34m\u001b[0m\u001b[0m\n\u001b[1;32m    649\u001b[0m             )\n",
      "\u001b[0;32m~/.virtualenvs/masters/lib/python3.10/site-packages/httpx/_client.py\u001b[0m in \u001b[0;36msend_handling_auth\u001b[0;34m(self, request, history, auth, timeout)\u001b[0m\n\u001b[1;32m    682\u001b[0m         \u001b[0mrequest\u001b[0m \u001b[0;34m=\u001b[0m \u001b[0mnext\u001b[0m\u001b[0;34m(\u001b[0m\u001b[0mauth_flow\u001b[0m\u001b[0;34m)\u001b[0m\u001b[0;34m\u001b[0m\u001b[0;34m\u001b[0m\u001b[0m\n\u001b[1;32m    683\u001b[0m         \u001b[0;32mwhile\u001b[0m \u001b[0;32mTrue\u001b[0m\u001b[0;34m:\u001b[0m\u001b[0;34m\u001b[0m\u001b[0;34m\u001b[0m\u001b[0m\n\u001b[0;32m--> 684\u001b[0;31m             \u001b[0mresponse\u001b[0m \u001b[0;34m=\u001b[0m \u001b[0mself\u001b[0m\u001b[0;34m.\u001b[0m\u001b[0msend_single_request\u001b[0m\u001b[0;34m(\u001b[0m\u001b[0mrequest\u001b[0m\u001b[0;34m,\u001b[0m \u001b[0mtimeout\u001b[0m\u001b[0;34m)\u001b[0m\u001b[0;34m\u001b[0m\u001b[0;34m\u001b[0m\u001b[0m\n\u001b[0m\u001b[1;32m    685\u001b[0m             \u001b[0;32mif\u001b[0m \u001b[0mauth\u001b[0m\u001b[0;34m.\u001b[0m\u001b[0mrequires_response_body\u001b[0m\u001b[0;34m:\u001b[0m\u001b[0;34m\u001b[0m\u001b[0;34m\u001b[0m\u001b[0m\n\u001b[1;32m    686\u001b[0m                 \u001b[0mresponse\u001b[0m\u001b[0;34m.\u001b[0m\u001b[0mread\u001b[0m\u001b[0;34m(\u001b[0m\u001b[0;34m)\u001b[0m\u001b[0;34m\u001b[0m\u001b[0;34m\u001b[0m\u001b[0m\n",
      "\u001b[0;32m~/.virtualenvs/masters/lib/python3.10/site-packages/httpx/_client.py\u001b[0m in \u001b[0;36msend_single_request\u001b[0;34m(self, request, timeout)\u001b[0m\n\u001b[1;32m    712\u001b[0m                 \u001b[0mheaders\u001b[0m\u001b[0;34m,\u001b[0m\u001b[0;34m\u001b[0m\u001b[0;34m\u001b[0m\u001b[0m\n\u001b[1;32m    713\u001b[0m                 \u001b[0mstream\u001b[0m\u001b[0;34m,\u001b[0m\u001b[0;34m\u001b[0m\u001b[0;34m\u001b[0m\u001b[0m\n\u001b[0;32m--> 714\u001b[0;31m             \u001b[0;34m)\u001b[0m \u001b[0;34m=\u001b[0m \u001b[0mtransport\u001b[0m\u001b[0;34m.\u001b[0m\u001b[0mrequest\u001b[0m\u001b[0;34m(\u001b[0m\u001b[0;34m\u001b[0m\u001b[0;34m\u001b[0m\u001b[0m\n\u001b[0m\u001b[1;32m    715\u001b[0m                 \u001b[0mrequest\u001b[0m\u001b[0;34m.\u001b[0m\u001b[0mmethod\u001b[0m\u001b[0;34m.\u001b[0m\u001b[0mencode\u001b[0m\u001b[0;34m(\u001b[0m\u001b[0;34m)\u001b[0m\u001b[0;34m,\u001b[0m\u001b[0;34m\u001b[0m\u001b[0;34m\u001b[0m\u001b[0m\n\u001b[1;32m    716\u001b[0m                 \u001b[0mrequest\u001b[0m\u001b[0;34m.\u001b[0m\u001b[0murl\u001b[0m\u001b[0;34m.\u001b[0m\u001b[0mraw\u001b[0m\u001b[0;34m,\u001b[0m\u001b[0;34m\u001b[0m\u001b[0;34m\u001b[0m\u001b[0m\n",
      "\u001b[0;32m~/.virtualenvs/masters/lib/python3.10/site-packages/httpcore/_sync/connection_pool.py\u001b[0m in \u001b[0;36mrequest\u001b[0;34m(self, method, url, headers, stream, timeout)\u001b[0m\n\u001b[1;32m    150\u001b[0m \u001b[0;34m\u001b[0m\u001b[0m\n\u001b[1;32m    151\u001b[0m             \u001b[0;32mtry\u001b[0m\u001b[0;34m:\u001b[0m\u001b[0;34m\u001b[0m\u001b[0;34m\u001b[0m\u001b[0m\n\u001b[0;32m--> 152\u001b[0;31m                 response = connection.request(\n\u001b[0m\u001b[1;32m    153\u001b[0m                     \u001b[0mmethod\u001b[0m\u001b[0;34m,\u001b[0m \u001b[0murl\u001b[0m\u001b[0;34m,\u001b[0m \u001b[0mheaders\u001b[0m\u001b[0;34m=\u001b[0m\u001b[0mheaders\u001b[0m\u001b[0;34m,\u001b[0m \u001b[0mstream\u001b[0m\u001b[0;34m=\u001b[0m\u001b[0mstream\u001b[0m\u001b[0;34m,\u001b[0m \u001b[0mtimeout\u001b[0m\u001b[0;34m=\u001b[0m\u001b[0mtimeout\u001b[0m\u001b[0;34m\u001b[0m\u001b[0;34m\u001b[0m\u001b[0m\n\u001b[1;32m    154\u001b[0m                 )\n",
      "\u001b[0;32m~/.virtualenvs/masters/lib/python3.10/site-packages/httpcore/_sync/connection.py\u001b[0m in \u001b[0;36mrequest\u001b[0;34m(self, method, url, headers, stream, timeout)\u001b[0m\n\u001b[1;32m     63\u001b[0m                         \u001b[0;34m\"open_socket origin=%r timeout=%r\"\u001b[0m\u001b[0;34m,\u001b[0m \u001b[0mself\u001b[0m\u001b[0;34m.\u001b[0m\u001b[0morigin\u001b[0m\u001b[0;34m,\u001b[0m \u001b[0mtimeout\u001b[0m\u001b[0;34m\u001b[0m\u001b[0;34m\u001b[0m\u001b[0m\n\u001b[1;32m     64\u001b[0m                     )\n\u001b[0;32m---> 65\u001b[0;31m                     \u001b[0mself\u001b[0m\u001b[0;34m.\u001b[0m\u001b[0msocket\u001b[0m \u001b[0;34m=\u001b[0m \u001b[0mself\u001b[0m\u001b[0;34m.\u001b[0m\u001b[0m_open_socket\u001b[0m\u001b[0;34m(\u001b[0m\u001b[0mtimeout\u001b[0m\u001b[0;34m)\u001b[0m\u001b[0;34m\u001b[0m\u001b[0;34m\u001b[0m\u001b[0m\n\u001b[0m\u001b[1;32m     66\u001b[0m                 \u001b[0mself\u001b[0m\u001b[0;34m.\u001b[0m\u001b[0m_create_connection\u001b[0m\u001b[0;34m(\u001b[0m\u001b[0mself\u001b[0m\u001b[0;34m.\u001b[0m\u001b[0msocket\u001b[0m\u001b[0;34m)\u001b[0m\u001b[0;34m\u001b[0m\u001b[0;34m\u001b[0m\u001b[0m\n\u001b[1;32m     67\u001b[0m             \u001b[0;32melif\u001b[0m \u001b[0mself\u001b[0m\u001b[0;34m.\u001b[0m\u001b[0mstate\u001b[0m \u001b[0;32min\u001b[0m \u001b[0;34m(\u001b[0m\u001b[0mConnectionState\u001b[0m\u001b[0;34m.\u001b[0m\u001b[0mREADY\u001b[0m\u001b[0;34m,\u001b[0m \u001b[0mConnectionState\u001b[0m\u001b[0;34m.\u001b[0m\u001b[0mIDLE\u001b[0m\u001b[0;34m)\u001b[0m\u001b[0;34m:\u001b[0m\u001b[0;34m\u001b[0m\u001b[0;34m\u001b[0m\u001b[0m\n",
      "\u001b[0;32m~/.virtualenvs/masters/lib/python3.10/site-packages/httpcore/_sync/connection.py\u001b[0m in \u001b[0;36m_open_socket\u001b[0;34m(self, timeout)\u001b[0m\n\u001b[1;32m     83\u001b[0m         \u001b[0mssl_context\u001b[0m \u001b[0;34m=\u001b[0m \u001b[0mself\u001b[0m\u001b[0;34m.\u001b[0m\u001b[0mssl_context\u001b[0m \u001b[0;32mif\u001b[0m \u001b[0mscheme\u001b[0m \u001b[0;34m==\u001b[0m \u001b[0;34mb\"https\"\u001b[0m \u001b[0;32melse\u001b[0m \u001b[0;32mNone\u001b[0m\u001b[0;34m\u001b[0m\u001b[0;34m\u001b[0m\u001b[0m\n\u001b[1;32m     84\u001b[0m         \u001b[0;32mtry\u001b[0m\u001b[0;34m:\u001b[0m\u001b[0;34m\u001b[0m\u001b[0;34m\u001b[0m\u001b[0m\n\u001b[0;32m---> 85\u001b[0;31m             return self.backend.open_tcp_stream(\n\u001b[0m\u001b[1;32m     86\u001b[0m                 \u001b[0mhostname\u001b[0m\u001b[0;34m,\u001b[0m \u001b[0mport\u001b[0m\u001b[0;34m,\u001b[0m \u001b[0mssl_context\u001b[0m\u001b[0;34m,\u001b[0m \u001b[0mtimeout\u001b[0m\u001b[0;34m\u001b[0m\u001b[0;34m\u001b[0m\u001b[0m\n\u001b[1;32m     87\u001b[0m             )\n",
      "\u001b[0;32m~/.virtualenvs/masters/lib/python3.10/site-packages/httpcore/_backends/sync.py\u001b[0m in \u001b[0;36mopen_tcp_stream\u001b[0;34m(self, hostname, port, ssl_context, timeout)\u001b[0m\n\u001b[1;32m    132\u001b[0m \u001b[0;34m\u001b[0m\u001b[0m\n\u001b[1;32m    133\u001b[0m         \u001b[0;32mwith\u001b[0m \u001b[0mmap_exceptions\u001b[0m\u001b[0;34m(\u001b[0m\u001b[0mexc_map\u001b[0m\u001b[0;34m)\u001b[0m\u001b[0;34m:\u001b[0m\u001b[0;34m\u001b[0m\u001b[0;34m\u001b[0m\u001b[0m\n\u001b[0;32m--> 134\u001b[0;31m             \u001b[0msock\u001b[0m \u001b[0;34m=\u001b[0m \u001b[0msocket\u001b[0m\u001b[0;34m.\u001b[0m\u001b[0mcreate_connection\u001b[0m\u001b[0;34m(\u001b[0m\u001b[0maddress\u001b[0m\u001b[0;34m,\u001b[0m \u001b[0mconnect_timeout\u001b[0m\u001b[0;34m)\u001b[0m\u001b[0;34m\u001b[0m\u001b[0;34m\u001b[0m\u001b[0m\n\u001b[0m\u001b[1;32m    135\u001b[0m             \u001b[0;32mif\u001b[0m \u001b[0mssl_context\u001b[0m \u001b[0;32mis\u001b[0m \u001b[0;32mnot\u001b[0m \u001b[0;32mNone\u001b[0m\u001b[0;34m:\u001b[0m\u001b[0;34m\u001b[0m\u001b[0;34m\u001b[0m\u001b[0m\n\u001b[1;32m    136\u001b[0m                 sock = ssl_context.wrap_socket(\n",
      "\u001b[0;32m/opt/homebrew/Cellar/python@3.10/3.10.9/Frameworks/Python.framework/Versions/3.10/lib/python3.10/socket.py\u001b[0m in \u001b[0;36mcreate_connection\u001b[0;34m(address, timeout, source_address)\u001b[0m\n\u001b[1;32m    831\u001b[0m             \u001b[0;32mif\u001b[0m \u001b[0msource_address\u001b[0m\u001b[0;34m:\u001b[0m\u001b[0;34m\u001b[0m\u001b[0;34m\u001b[0m\u001b[0m\n\u001b[1;32m    832\u001b[0m                 \u001b[0msock\u001b[0m\u001b[0;34m.\u001b[0m\u001b[0mbind\u001b[0m\u001b[0;34m(\u001b[0m\u001b[0msource_address\u001b[0m\u001b[0;34m)\u001b[0m\u001b[0;34m\u001b[0m\u001b[0;34m\u001b[0m\u001b[0m\n\u001b[0;32m--> 833\u001b[0;31m             \u001b[0msock\u001b[0m\u001b[0;34m.\u001b[0m\u001b[0mconnect\u001b[0m\u001b[0;34m(\u001b[0m\u001b[0msa\u001b[0m\u001b[0;34m)\u001b[0m\u001b[0;34m\u001b[0m\u001b[0;34m\u001b[0m\u001b[0m\n\u001b[0m\u001b[1;32m    834\u001b[0m             \u001b[0;31m# Break explicitly a reference cycle\u001b[0m\u001b[0;34m\u001b[0m\u001b[0;34m\u001b[0m\u001b[0m\n\u001b[1;32m    835\u001b[0m             \u001b[0merr\u001b[0m \u001b[0;34m=\u001b[0m \u001b[0;32mNone\u001b[0m\u001b[0;34m\u001b[0m\u001b[0;34m\u001b[0m\u001b[0m\n",
      "\u001b[0;31mKeyboardInterrupt\u001b[0m: "
     ]
    }
   ],
   "source": [
    "translator = Translator(service_urls=[\"translate.googleapis.com\"])\n",
    "\n",
    "labels = annotation_df[\"basestyle\"].tolist()\n",
    "batch_size = 50\n",
    "batches = [labels[i : i + batch_size] for i in range(0, len(labels), batch_size)]\n",
    "annotation_df[\"basestyle\"] = [\n",
    "    trans for batch in tqdm(batches) for trans in translator.translate(batch)\n",
    "]"
   ]
  },
  {
   "cell_type": "code",
   "execution_count": null,
   "metadata": {
    "id": "-6wXJnQamiFm"
   },
   "outputs": [],
   "source": [
    "ann_path = os.path.join(data_path, \"validation_annotation.csv\")\n",
    "\n",
    "annotation_df.to_csv(ann_path)"
   ]
  },
  {
   "cell_type": "markdown",
   "metadata": {
    "id": "dJ-piYk3TD6a"
   },
   "source": [
    "Or"
   ]
  },
  {
   "cell_type": "code",
   "execution_count": null,
   "metadata": {
    "colab": {
     "base_uri": "https://localhost:8080/"
    },
    "id": "c01RY8D1TE8t",
    "outputId": "48423d37-4871-4ae8-e403-ec12581efc00"
   },
   "outputs": [
    {
     "data": {
      "text/plain": [
       "('validation_annotation.csv', <http.client.HTTPMessage at 0x7f8348967250>)"
      ]
     },
     "execution_count": 7,
     "metadata": {},
     "output_type": "execute_result"
    }
   ],
   "source": [
    "import sys\n",
    "\n",
    "if sys.version_info[0] >= 3:\n",
    "    from urllib.request import urlretrieve\n",
    "else:\n",
    "    from urllib import urlretrieve\n",
    "\n",
    "url = \"https://drive.google.com/uc?export=download&id=1_gSG4G-bzxVYBZTcdt2dWiZbfj8Bq-VH\"\n",
    "urlretrieve(url, \"validation_annotation.csv\")"
   ]
  },
  {
   "cell_type": "code",
   "execution_count": 16,
   "metadata": {
    "colab": {
     "base_uri": "https://localhost:8080/",
     "height": 227
    },
    "id": "arkCWPQkUQ2A",
    "outputId": "46544bd9-b58d-47e1-dbf6-25202cf0e77b"
   },
   "outputs": [],
   "source": [
    "annotation_df = pd.read_csv(ann_path)"
   ]
  },
  {
   "cell_type": "code",
   "execution_count": null,
   "metadata": {
    "colab": {
     "base_uri": "https://localhost:8080/",
     "height": 186
    },
    "id": "-fGdHspeUDxR",
    "outputId": "4dc67272-e842-4f5d-f130-2c249a447fd9"
   },
   "outputs": [
    {
     "ename": "FileNotFoundError",
     "evalue": "ignored",
     "output_type": "error",
     "traceback": [
      "\u001b[0;31m---------------------------------------------------------------------------\u001b[0m",
      "\u001b[0;31mFileNotFoundError\u001b[0m                         Traceback (most recent call last)",
      "\u001b[0;32m<ipython-input-3-0d7e2147773f>\u001b[0m in \u001b[0;36m<module>\u001b[0;34m\u001b[0m\n\u001b[1;32m      1\u001b[0m \u001b[0;32mimport\u001b[0m \u001b[0mos\u001b[0m\u001b[0;34m\u001b[0m\u001b[0;34m\u001b[0m\u001b[0m\n\u001b[0;32m----> 2\u001b[0;31m \u001b[0mos\u001b[0m\u001b[0;34m.\u001b[0m\u001b[0mlistdir\u001b[0m\u001b[0;34m(\u001b[0m\u001b[0;34m'https://drive.google.com/drive/folders/14l5-li-ntKbjpuKXP0IXB-i3Y3Av6bOU'\u001b[0m\u001b[0;34m)\u001b[0m\u001b[0;34m\u001b[0m\u001b[0;34m\u001b[0m\u001b[0m\n\u001b[0m",
      "\u001b[0;31mFileNotFoundError\u001b[0m: [Errno 2] No such file or directory: 'https://drive.google.com/drive/folders/14l5-li-ntKbjpuKXP0IXB-i3Y3Av6bOU'"
     ]
    }
   ],
   "source": [
    "import os\n",
    "\n",
    "os.listdir(\"https://drive.google.com/drive/folders/14l5-li-ntKbjpuKXP0IXB-i3Y3Av6bOU\")"
   ]
  },
  {
   "cell_type": "markdown",
   "metadata": {
    "id": "pc9vX5_o_cZh"
   },
   "source": [
    "#### Create custom dataset in PyTorch"
   ]
  },
  {
   "cell_type": "code",
   "execution_count": 18,
   "metadata": {
    "id": "PgHQpO7bnNkX"
   },
   "outputs": [],
   "source": [
    "annotation_df = pd.read_csv(ann_path)"
   ]
  },
  {
   "cell_type": "code",
   "execution_count": 19,
   "metadata": {
    "id": "_D4RTVpRThu3"
   },
   "outputs": [],
   "source": [
    "class HairStyleDataset(Dataset):\n",
    "    def __init__(self, annotation_df, transform=None):\n",
    "\n",
    "        self.img_labels = np.array(annotation_df.basestyle)\n",
    "        self.img_files = np.array(\n",
    "            annotation_df.img_dir_path + \"/\" + annotation_df.filename\n",
    "        )\n",
    "        self.transform = transform\n",
    "\n",
    "    def __len__(self):\n",
    "        return len(self.img_labels)\n",
    "\n",
    "    def __getitem__(self, idx):\n",
    "        image = cv2.imread(self.img_files[idx])\n",
    "        image = cv2.cvtColor(image, cv2.COLOR_BGR2RGB)\n",
    "\n",
    "        if self.transform:\n",
    "            image = self.transform(image=image)[\"image\"]\n",
    "\n",
    "        # image = torch.tensor(image).permute(2, 0, 1).float()\n",
    "        label = self.img_labels[idx]\n",
    "\n",
    "        return image, label"
   ]
  },
  {
   "cell_type": "code",
   "execution_count": 20,
   "metadata": {
    "id": "TX3pfy9lTpGl"
   },
   "outputs": [
    {
     "ename": "ModuleNotFoundError",
     "evalue": "No module named 'albumentations'",
     "output_type": "error",
     "traceback": [
      "\u001b[0;31m---------------------------------------------------------------------------\u001b[0m",
      "\u001b[0;31mModuleNotFoundError\u001b[0m                       Traceback (most recent call last)",
      "\u001b[0;32m/var/folders/mf/f1qykghs68x1pld3xlx24t5c0000gn/T/ipykernel_44122/1972120954.py\u001b[0m in \u001b[0;36m<cell line: 1>\u001b[0;34m()\u001b[0m\n\u001b[0;32m----> 1\u001b[0;31m \u001b[0;32mimport\u001b[0m \u001b[0malbumentations\u001b[0m \u001b[0;32mas\u001b[0m \u001b[0mA\u001b[0m\u001b[0;34m\u001b[0m\u001b[0;34m\u001b[0m\u001b[0m\n\u001b[0m\u001b[1;32m      2\u001b[0m \u001b[0;34m\u001b[0m\u001b[0m\n\u001b[1;32m      3\u001b[0m \u001b[0msize\u001b[0m \u001b[0;34m=\u001b[0m \u001b[0;36m224\u001b[0m\u001b[0;34m\u001b[0m\u001b[0;34m\u001b[0m\u001b[0m\n\u001b[1;32m      4\u001b[0m transforms = A.Compose(\n\u001b[1;32m      5\u001b[0m     [\n",
      "\u001b[0;31mModuleNotFoundError\u001b[0m: No module named 'albumentations'"
     ]
    }
   ],
   "source": [
    "import torchvision\n",
    "\n",
    "size = 224\n",
    "transforms = A.Compose(\n",
    "    [\n",
    "        A.Resize(size, size, always_apply=True),\n",
    "        A.Normalize(max_pixel_value=255.0, always_apply=True),\n",
    "    ]\n",
    ")\n",
    "\n",
    "\n",
    "dataset = HairStyleDataset(\n",
    "    annotation_df,\n",
    "    transform=transforms,\n",
    ")\n",
    "\n",
    "\n",
    "batch_size = 24\n",
    "num_workers = 1\n",
    "dataloader = torch.utils.data.DataLoader(\n",
    "    dataset, batch_size=batch_size, num_workers=num_workers, shuffle=False\n",
    ")"
   ]
  },
  {
   "cell_type": "markdown",
   "metadata": {
    "id": "V7AhJ2FiLD5j"
   },
   "source": [
    "usage of this data structure:"
   ]
  },
  {
   "cell_type": "code",
   "execution_count": null,
   "metadata": {
    "id": "MvvVrMOGKyOz"
   },
   "outputs": [],
   "source": [
    "device = \"cuda\" if torch.cuda.is_available() else \"cpu\"\n",
    "\n",
    "with torch.no_grad():\n",
    "    for batch in tqdm(dataloader):\n",
    "        pass"
   ]
  },
  {
   "cell_type": "code",
   "execution_count": null,
   "metadata": {
    "colab": {
     "base_uri": "https://localhost:8080/",
     "height": 322
    },
    "id": "-5kFcKG_LMZB",
    "outputId": "ddd5d06b-bc9e-4771-dac8-49a694302f51"
   },
   "outputs": [
    {
     "name": "stderr",
     "output_type": "stream",
     "text": [
      "WARNING:matplotlib.image:Clipping input data to the valid range for imshow with RGB data ([0..1] for floats or [0..255] for integers).\n"
     ]
    },
    {
     "name": "stdout",
     "output_type": "stream",
     "text": [
      "Feature batch shape: torch.Size([24, 224, 224, 3])\n"
     ]
    },
    {
     "data": {
      "image/png": "[encoded data removed]",
      "text/plain": [
       "<Figure size 432x288 with 1 Axes>"
      ]
     },
     "metadata": {
      "needs_background": "light"
     },
     "output_type": "display_data"
    },
    {
     "name": "stdout",
     "output_type": "stream",
     "text": [
      "Label: 히피\n"
     ]
    }
   ],
   "source": [
    "# Display image and label.\n",
    "train_features, train_labels = next(iter(dataloader))\n",
    "print(f\"Feature batch shape: {train_features.size()}\")\n",
    "\n",
    "img = train_features[0].squeeze()\n",
    "label = train_labels[0]\n",
    "plt.imshow(img)\n",
    "plt.show()\n",
    "print(f\"Label: {label}\")"
   ]
  },
  {
   "cell_type": "code",
   "execution_count": null,
   "metadata": {
    "id": "OwgpkEH-Oi-s"
   },
   "outputs": [],
   "source": []
  }
 ],
 "metadata": {
  "colab": {
   "provenance": []
  },
  "kernelspec": {
   "display_name": "Python 3 (ipykernel)",
   "language": "python",
   "name": "python3"
  },
  "language_info": {
   "codemirror_mode": {
    "name": "ipython",
    "version": 3
   },
   "file_extension": ".py",
   "mimetype": "text/x-python",
   "name": "python",
   "nbconvert_exporter": "python",
   "pygments_lexer": "ipython3",
   "version": "3.10.9"
  }
 },
 "nbformat": 4,
 "nbformat_minor": 4
}
